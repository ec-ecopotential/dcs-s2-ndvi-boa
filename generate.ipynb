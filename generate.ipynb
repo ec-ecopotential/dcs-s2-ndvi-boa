{
 "cells": [
  {
   "cell_type": "code",
   "execution_count": 23,
   "metadata": {
    "collapsed": true
   },
   "outputs": [],
   "source": [
    "import nbformat as nbf\n",
    "import lxml.etree as etree\n",
    "import sys\n",
    "import requests\n",
    "import os\n",
    "import string\n",
    "import hashlib\n",
    "import urllib2\n",
    "import ast\n",
    "import re"
   ]
  },
  {
   "cell_type": "code",
   "execution_count": 20,
   "metadata": {
    "collapsed": true
   },
   "outputs": [],
   "source": [
    "template = '/home/fbrito/dcs-s2-ndvi-boa/src/main/app-resources/application_template.xml'\n",
    "\n",
    "descriptor_file = '/home/fbrito/dcs-s2-ndvi-boa/src/main/app-resources/application.xml'\n",
    "\n",
    "nb_source = '/home/fbrito/dcs-s2-ndvi-boa/src/main/app-resources/notebook/libexec/input.ipynb'"
   ]
  },
  {
   "cell_type": "code",
   "execution_count": 43,
   "metadata": {
    "collapsed": false
   },
   "outputs": [
    {
     "name": "stdout",
     "output_type": "stream",
     "text": [
      "0\n",
      "1\n",
      "2\n",
      "here\n",
      "pa_code = dict([('id', 'pa_code'),\n",
      "               ('value', 'DO'),\n",
      "               ('title', 'Protected Area code'),\n",
      "               ('abstract', 'Protected Area code (one of DO,...)')])\n",
      "3\n",
      "here\n",
      "service = dict([('title', 'NDVI BOA - updated 2'),\n",
      "                ('abstract', 'Sentinel-2 NDVI BOA'),\n",
      "                ('id', 'ndvi_boa')])\n",
      "4\n",
      "here\n",
      "pa_name = dict([('id', 'pa_name'),\n",
      "               ('value', 'Donana'),\n",
      "               ('title', 'Protected Area name'),\n",
      "               ('abstract', 'Protected Area name (one of Donana,...)')])\n",
      "5\n",
      "6\n",
      "7\n",
      "a\n",
      "[<Element source at 0x7fb4fd2f59e0>]\n",
      "input_reference = \"https://catalog.terradue.com/sentinel2/search?uid=S2A_MSIL2A_20170909T110651_N0205_R137_T29SPB_20170909T111217\"\n",
      "8\n",
      "9\n",
      "10\n",
      "11\n",
      "12\n",
      "13\n",
      "14\n",
      "15\n",
      "16\n",
      "17\n",
      "18\n",
      "19\n",
      "20\n",
      "21\n",
      "22\n",
      "23\n",
      "24\n",
      "25\n",
      "26\n",
      "27\n",
      "28\n",
      "29\n"
     ]
    }
   ],
   "source": [
    "\n",
    "\n",
    "nb = nbf.read(nb_source, 4)\n",
    "\n",
    "tree = etree.parse(template)\n",
    "root = tree.getroot()\n",
    "\n",
    "for index, cell in enumerate(nb['cells']):\n",
    "    print index\n",
    "    \n",
    "    if str(cell['cell_type']) == 'code': \n",
    "        \n",
    "        try:\n",
    "            root_ast = ast.parse(str(cell['source']))\n",
    "            names = list({node.id for node in ast.walk(root_ast) if isinstance(node, ast.Name)})\n",
    "           \n",
    "            if len(names) == 1:\n",
    "            \n",
    "                if names[0] == 'input_reference': #and action == 'runtime':\n",
    "                    print('a')\n",
    "                    el_source = root.xpath('/application/workflow/node[@id=\"notebook\"]/sources/source',\n",
    "                                            namespaces={}) \n",
    "        \n",
    "                    print(el_source)\n",
    "                    el_source[0].text = re.findall('\"([^\\']*)\"', str(nb['cells'][7]['source']))[0]\n",
    "            \n",
    "                    print(str(cell['source']))\n",
    "            \n",
    "            if len(names) != 2:\n",
    "                continue \n",
    "                                \n",
    "            if names[0] == 'dict' or names[1] == 'dict':\n",
    "                print('here')\n",
    "                # deal with the alphabetical order\n",
    "                if names[1] == 'dict': \n",
    "                    names[1] = names[0]\n",
    "                    names[0] = 'dict'\n",
    "                    \n",
    "                print(str(cell['source']))   \n",
    "                exec(str(cell['source']))\n",
    "                \n",
    "                if 'title' in eval(names[1]).keys() and 'abstract' in eval(names[1]).keys() and 'id' in eval(names[1]).keys():\n",
    "                    \n",
    "                    if 'value' in eval(names[1]).keys():\n",
    "                        # it's a parameter\n",
    "                        xml_string = '<parameter id=\"%s\" title=\"%s\" abstract=\"%s\" maxOccurs=\"1\" scope=\"runtime\" type=\"LiteralData\">%s</parameter>' % (eval(names[1])['id'], \n",
    "                                  eval(names[1])['title'], \n",
    "                                  eval(names[1])['abstract'], \n",
    "                                  eval(names[1])['value'])\n",
    "                        \n",
    "                        el_default_params = root.xpath('/application/jobTemplates/jobTemplate/defaultParameters', \n",
    "                                namespaces={})\n",
    "                        \n",
    "                        el_default_params[0].append(etree.fromstring(xml_string))\n",
    "                     \n",
    "                    else:\n",
    "                       \n",
    "                        # it's the service definition\n",
    "                        el_workflow = root.xpath('/application/workflow',\n",
    "                                            namespaces={}) \n",
    "        \n",
    "                        el_workflow[0].attrib['id'] = eval(names[1])['id']\n",
    "                        el_workflow[0].attrib['title'] = eval(names[1])['title']\n",
    "                        el_workflow[0].attrib['abstract'] = eval(names[1])['abstract']\n",
    "                    \n",
    "        except SyntaxError:\n",
    "            continue\n",
    "          \n",
    "descriptor = open(descriptor_file, 'wb')\n",
    "descriptor.write(etree.tostring(tree, pretty_print=True))\n",
    "descriptor.close()"
   ]
  },
  {
   "cell_type": "code",
   "execution_count": 48,
   "metadata": {
    "collapsed": false
   },
   "outputs": [
    {
     "data": {
      "text/plain": [
       "{u'cell_type': u'code',\n",
       " u'execution_count': 10,\n",
       " u'metadata': {u'collapsed': True},\n",
       " u'outputs': [],\n",
       " u'source': u\"input_identifier = 'S2A_MSIL2A_20170909T110651_N0205_R137_T29SPB_20170909T111217'\"}"
      ]
     },
     "execution_count": 48,
     "metadata": {},
     "output_type": "execute_result"
    }
   ],
   "source": [
    "nb['cells'][7]"
   ]
  },
  {
   "cell_type": "code",
   "execution_count": 20,
   "metadata": {
    "collapsed": true
   },
   "outputs": [],
   "source": [
    "exec(str(nb['cells'][5]['source']))"
   ]
  },
  {
   "cell_type": "code",
   "execution_count": 22,
   "metadata": {
    "collapsed": false
   },
   "outputs": [
    {
     "data": {
      "text/plain": [
       "dict"
      ]
     },
     "execution_count": 22,
     "metadata": {},
     "output_type": "execute_result"
    }
   ],
   "source": [
    "type(a_par)"
   ]
  },
  {
   "cell_type": "code",
   "execution_count": 23,
   "metadata": {
    "collapsed": false
   },
   "outputs": [
    {
     "data": {
      "text/plain": [
       "dict"
      ]
     },
     "execution_count": 23,
     "metadata": {},
     "output_type": "execute_result"
    }
   ],
   "source": [
    "type(pa_name)"
   ]
  },
  {
   "cell_type": "code",
   "execution_count": 44,
   "metadata": {
    "collapsed": true
   },
   "outputs": [],
   "source": [
    "root_ast = ast.parse(str(nb['cells'][2]['source']))\n",
    "names = list({node.id for node in ast.walk(root_ast) if isinstance(node, ast.Name)})\n",
    "            "
   ]
  },
  {
   "cell_type": "code",
   "execution_count": 45,
   "metadata": {
    "collapsed": false
   },
   "outputs": [
    {
     "data": {
      "text/plain": [
       "['dict', 'pa_code']"
      ]
     },
     "execution_count": 45,
     "metadata": {},
     "output_type": "execute_result"
    }
   ],
   "source": [
    "names"
   ]
  },
  {
   "cell_type": "code",
   "execution_count": 30,
   "metadata": {
    "collapsed": true
   },
   "outputs": [],
   "source": [
    "root_ast = ast.parse(str(nb['cells'][4]['source']))\n",
    "names = {node.id for node in ast.walk(root_ast) if isinstance(node, ast.Name)}"
   ]
  },
  {
   "cell_type": "code",
   "execution_count": 31,
   "metadata": {
    "collapsed": false
   },
   "outputs": [
    {
     "data": {
      "text/plain": [
       "{'dict', 'pa_name'}"
      ]
     },
     "execution_count": 31,
     "metadata": {},
     "output_type": "execute_result"
    }
   ],
   "source": [
    "names"
   ]
  },
  {
   "cell_type": "code",
   "execution_count": 49,
   "metadata": {
    "collapsed": false
   },
   "outputs": [
    {
     "data": {
      "text/plain": [
       "1"
      ]
     },
     "execution_count": 49,
     "metadata": {},
     "output_type": "execute_result"
    }
   ],
   "source": [
    "len(names)"
   ]
  },
  {
   "cell_type": "code",
   "execution_count": 13,
   "metadata": {
    "collapsed": false
   },
   "outputs": [
    {
     "data": {
      "text/plain": [
       "[<Element source at 0x7fb4fd6475a8>]"
      ]
     },
     "execution_count": 13,
     "metadata": {},
     "output_type": "execute_result"
    }
   ],
   "source": [
    "root.xpath('/application/workflow/node[@id=\"notebook\"]/sources/source',\n",
    "                                            namespaces={}) "
   ]
  },
  {
   "cell_type": "code",
   "execution_count": 5,
   "metadata": {
    "collapsed": false
   },
   "outputs": [
    {
     "data": {
      "text/plain": [
       "[]"
      ]
     },
     "execution_count": 5,
     "metadata": {},
     "output_type": "execute_result"
    }
   ],
   "source": [
    "el_source"
   ]
  },
  {
   "cell_type": "code",
   "execution_count": 39,
   "metadata": {
    "collapsed": false
   },
   "outputs": [
    {
     "data": {
      "text/plain": [
       "'https://catalog.terradue.com/sentinel2/search?uid=S2A_MSIL2A_20170909T110651_N0205_R137_T29SPB_20170909T111217'"
      ]
     },
     "execution_count": 39,
     "metadata": {},
     "output_type": "execute_result"
    }
   ],
   "source": [
    "re.findall('\"([^\\']*)\"', str(nb['cells'][7]['source']))[0]"
   ]
  },
  {
   "cell_type": "code",
   "execution_count": 31,
   "metadata": {
    "collapsed": false
   },
   "outputs": [
    {
     "data": {
      "text/plain": [
       "'input_reference = \"https://catalog.terradue.com/sentinel2/search?uid=S2A_MSIL2A_20170909T110651_N0205_R137_T29SPB_20170909T111217\"'"
      ]
     },
     "execution_count": 31,
     "metadata": {},
     "output_type": "execute_result"
    }
   ],
   "source": [
    "str(nb['cells'][7]['source'])"
   ]
  },
  {
   "cell_type": "code",
   "execution_count": null,
   "metadata": {
    "collapsed": true
   },
   "outputs": [],
   "source": []
  }
 ],
 "metadata": {
  "kernelspec": {
   "display_name": "Python 2",
   "language": "python",
   "name": "python2"
  },
  "language_info": {
   "codemirror_mode": {
    "name": "ipython",
    "version": 2
   },
   "file_extension": ".py",
   "mimetype": "text/x-python",
   "name": "python",
   "nbconvert_exporter": "python",
   "pygments_lexer": "ipython2",
   "version": "2.7.12"
  }
 },
 "nbformat": 4,
 "nbformat_minor": 2
}
