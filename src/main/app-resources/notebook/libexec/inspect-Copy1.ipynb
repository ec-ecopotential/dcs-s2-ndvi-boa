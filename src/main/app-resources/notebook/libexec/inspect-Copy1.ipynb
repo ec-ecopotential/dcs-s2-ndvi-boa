{
 "cells": [
  {
   "cell_type": "code",
   "execution_count": 15,
   "metadata": {
    "collapsed": false
   },
   "outputs": [],
   "source": [
    "import nbformat as nbf\n",
    "import lxml.etree as etree\n",
    "import sys\n",
    "import requests\n",
    "import os\n",
    "import string\n",
    "import hashlib\n",
    "import urllib2\n",
    "import ast\n",
    "\n",
    "\n",
    "nb_source = 'input-Copy1.ipynb'\n",
    "nb = nbf.read(nb_source, 4)"
   ]
  },
  {
   "cell_type": "code",
   "execution_count": 11,
   "metadata": {
    "collapsed": true
   },
   "outputs": [],
   "source": [
    "def ciopgetparam(name):\n",
    "    \n",
    "    return 'KR'"
   ]
  },
  {
   "cell_type": "code",
   "execution_count": 4,
   "metadata": {
    "collapsed": false
   },
   "outputs": [
    {
     "data": {
      "text/plain": [
       "{u'cell_type': u'code',\n",
       " u'execution_count': 4,\n",
       " u'metadata': {u'collapsed': False},\n",
       " u'outputs': [],\n",
       " u'source': u\"pa_code = dict([('id', 'pa_code'),\\n               ('value', 'DO'),\\n               ('title', 'Protected Area code'),\\n               ('abstract', 'Protected Area code (one of DO,...)')])\"}"
      ]
     },
     "execution_count": 4,
     "metadata": {},
     "output_type": "execute_result"
    }
   ],
   "source": [
    "nb['cells'][2]"
   ]
  },
  {
   "cell_type": "markdown",
   "metadata": {},
   "source": [
    "### Loop all cells and retain the ones that assign a dict"
   ]
  },
  {
   "cell_type": "code",
   "execution_count": 7,
   "metadata": {
    "collapsed": false
   },
   "outputs": [
    {
     "data": {
      "text/plain": [
       "u\"data_path = '/workspace/data'\""
      ]
     },
     "execution_count": 7,
     "metadata": {},
     "output_type": "execute_result"
    }
   ],
   "source": [
    "nb['cells'][5]['source']"
   ]
  },
  {
   "cell_type": "code",
   "execution_count": 6,
   "metadata": {
    "collapsed": false
   },
   "outputs": [],
   "source": [
    "import ast"
   ]
  },
  {
   "cell_type": "code",
   "execution_count": 8,
   "metadata": {
    "collapsed": false
   },
   "outputs": [],
   "source": [
    "root = ast.parse(str(nb['cells'][5]['source']))\n",
    "names = sorted({node.id for node in ast.walk(root) if isinstance(node, ast.Name)})"
   ]
  },
  {
   "cell_type": "code",
   "execution_count": 11,
   "metadata": {
    "collapsed": false
   },
   "outputs": [
    {
     "data": {
      "text/plain": [
       "'data_path'"
      ]
     },
     "execution_count": 11,
     "metadata": {},
     "output_type": "execute_result"
    }
   ],
   "source": [
    "names[0]"
   ]
  },
  {
   "cell_type": "code",
   "execution_count": 10,
   "metadata": {
    "collapsed": true
   },
   "outputs": [],
   "source": [
    "exec(str(nb['cells'][2]['source']))"
   ]
  },
  {
   "cell_type": "code",
   "execution_count": 11,
   "metadata": {
    "collapsed": false
   },
   "outputs": [
    {
     "data": {
      "text/plain": [
       "['abstract', 'id', 'value', 'title']"
      ]
     },
     "execution_count": 11,
     "metadata": {},
     "output_type": "execute_result"
    }
   ],
   "source": [
    "eval(names[1]).keys()"
   ]
  },
  {
   "cell_type": "markdown",
   "metadata": {},
   "source": [
    "### execute the cell to create the object"
   ]
  },
  {
   "cell_type": "code",
   "execution_count": 4,
   "metadata": {
    "collapsed": false
   },
   "outputs": [],
   "source": [
    "exec(str(nb['cells'][3]['source']))"
   ]
  },
  {
   "cell_type": "code",
   "execution_count": 99,
   "metadata": {
    "collapsed": false
   },
   "outputs": [],
   "source": [
    "pa_code  = None"
   ]
  },
  {
   "cell_type": "code",
   "execution_count": 40,
   "metadata": {
    "collapsed": false
   },
   "outputs": [
    {
     "name": "stdout",
     "output_type": "stream",
     "text": [
      "it is a parameter\n"
     ]
    }
   ],
   "source": [
    "if 'title' in pa_code.keys() and 'abstract' in pa_code.keys() and 'id' in pa_code.keys():\n",
    "    print 'it is a parameter'\n",
    "    \n",
    "    pa_code['value'] = ciopgetparam(pa_code['id'])\n",
    "    \n",
    "    a = 'dict(['\n",
    "\n",
    "    for i, keys in enumerate(pa_code):\n",
    "        if i == 0: \n",
    "            a = a + '( \"%s\", \"%s\")' % (keys, pa_code[keys]) \n",
    "        else:\n",
    "            a = a + ',( \"%s\", \"%s\")' % (keys, pa_code[keys]) \n",
    "        \n",
    "    a = a + '])'\n",
    "    \n",
    "    nb['cells'][2]['source'] = '%s = %s' % (names[0], a)\n",
    "    "
   ]
  },
  {
   "cell_type": "code",
   "execution_count": 41,
   "metadata": {
    "collapsed": false
   },
   "outputs": [
    {
     "data": {
      "text/plain": [
       "'dict = dict([( \"abstract\", \"Protected Area code (one of DO,...)\"),( \"id\", \"pa_code\"),( \"value\", \"KR\"),( \"title\", \"Protected Area code\")])'"
      ]
     },
     "execution_count": 41,
     "metadata": {},
     "output_type": "execute_result"
    }
   ],
   "source": [
    "nb['cells'][2]['source']"
   ]
  },
  {
   "cell_type": "code",
   "execution_count": 93,
   "metadata": {
    "collapsed": false
   },
   "outputs": [
    {
     "ename": "TypeError",
     "evalue": "'dict' object is not callable",
     "output_type": "error",
     "traceback": [
      "\u001b[0;31m\u001b[0m",
      "\u001b[0;31mTypeError\u001b[0mTraceback (most recent call last)",
      "\u001b[0;32m<ipython-input-93-e360aa1868c4>\u001b[0m in \u001b[0;36m<module>\u001b[0;34m()\u001b[0m\n\u001b[0;32m----> 1\u001b[0;31m \u001b[0;32mexec\u001b[0m\u001b[0;34m(\u001b[0m\u001b[0mstr\u001b[0m\u001b[0;34m(\u001b[0m\u001b[0mnb\u001b[0m\u001b[0;34m[\u001b[0m\u001b[0;34m'cells'\u001b[0m\u001b[0;34m]\u001b[0m\u001b[0;34m[\u001b[0m\u001b[0;36m2\u001b[0m\u001b[0;34m]\u001b[0m\u001b[0;34m[\u001b[0m\u001b[0;34m'source'\u001b[0m\u001b[0;34m]\u001b[0m\u001b[0;34m)\u001b[0m\u001b[0;34m)\u001b[0m\u001b[0;34m\u001b[0m\u001b[0m\n\u001b[0m",
      "\u001b[0;32m<string>\u001b[0m in \u001b[0;36m<module>\u001b[0;34m()\u001b[0m\n",
      "\u001b[0;31mTypeError\u001b[0m: 'dict' object is not callable"
     ]
    }
   ],
   "source": [
    "exec(str(nb['cells'][2]['source']))"
   ]
  },
  {
   "cell_type": "code",
   "execution_count": null,
   "metadata": {
    "collapsed": true
   },
   "outputs": [],
   "source": []
  },
  {
   "cell_type": "code",
   "execution_count": 43,
   "metadata": {
    "collapsed": false
   },
   "outputs": [
    {
     "data": {
      "text/plain": [
       "{'abstract': 'Protected Area code (one of DO,...)',\n",
       " 'id': 'pa_code',\n",
       " 'title': 'Protected Area code',\n",
       " 'value': 'KR'}"
      ]
     },
     "execution_count": 43,
     "metadata": {},
     "output_type": "execute_result"
    }
   ],
   "source": [
    "pa_code"
   ]
  },
  {
   "cell_type": "markdown",
   "metadata": {},
   "source": [
    "### Application.xml"
   ]
  },
  {
   "cell_type": "code",
   "execution_count": 44,
   "metadata": {
    "collapsed": true
   },
   "outputs": [],
   "source": [
    "import lxml.etree as etree\n",
    "import sys\n",
    "import requests\n",
    "import os\n",
    "import string\n",
    "import hashlib\n",
    "import urllib2"
   ]
  },
  {
   "cell_type": "code",
   "execution_count": 47,
   "metadata": {
    "collapsed": false
   },
   "outputs": [],
   "source": [
    "template = 'application_template.xml'\n",
    "tree = etree.parse(template)\n",
    "root = tree.getroot()"
   ]
  },
  {
   "cell_type": "code",
   "execution_count": 48,
   "metadata": {
    "collapsed": true
   },
   "outputs": [],
   "source": [
    "xml_string = '<parameter id=\"%s\" title=\"%s\" abstract=\"%s\" maxOccurs=\"1\" scope=\"runtime\" type=\"LiteralData\">%s</parameter>' % (\n",
    "        pa_code['id'], pa_code['title'], pa_code['abstract'],pa_code['value'] )"
   ]
  },
  {
   "cell_type": "code",
   "execution_count": 49,
   "metadata": {
    "collapsed": false
   },
   "outputs": [
    {
     "data": {
      "text/plain": [
       "'<parameter id=\"pa_code\" title=\"Protected Area code\" abstract=\"Protected Area code (one of DO,...)\" maxOccurs=\"1\" scope=\"runtime\" type=\"LiteralData\">KR</parameter>'"
      ]
     },
     "execution_count": 49,
     "metadata": {},
     "output_type": "execute_result"
    }
   ],
   "source": [
    "xml_string"
   ]
  },
  {
   "cell_type": "code",
   "execution_count": 58,
   "metadata": {
    "collapsed": false
   },
   "outputs": [],
   "source": [
    "el_default_params = root.xpath('/application/jobTemplates/jobTemplate/defaultParameters', \n",
    "                             namespaces={})\n",
    "        "
   ]
  },
  {
   "cell_type": "code",
   "execution_count": 59,
   "metadata": {
    "collapsed": false
   },
   "outputs": [
    {
     "data": {
      "text/plain": [
       "[<Element defaultParameters at 0x7f4cab9f7680>]"
      ]
     },
     "execution_count": 59,
     "metadata": {},
     "output_type": "execute_result"
    }
   ],
   "source": [
    "el_default_params"
   ]
  },
  {
   "cell_type": "code",
   "execution_count": 61,
   "metadata": {
    "collapsed": false
   },
   "outputs": [],
   "source": [
    "el_default_params[0].addnext(etree.fromstring(xml_string))"
   ]
  },
  {
   "cell_type": "code",
   "execution_count": 63,
   "metadata": {
    "collapsed": false
   },
   "outputs": [
    {
     "data": {
      "text/plain": [
       "'<application xmlns:xsi=\"http://www.w3.org/2001/XMLSchema-instance\" xmlns:xsd=\"http://www.w3.org/2001/XMLSchema\" id=\"application\">\\n  <jobTemplates>\\n    <jobTemplate id=\"notebook\">\\n      <streamingExecutable>/application/notebook/run</streamingExecutable>\\n      <defaultParameters>\\n     </defaultParameters><parameter id=\"pa_code\" title=\"Protected Area code\" abstract=\"Protected Area code (one of DO,...)\" maxOccurs=\"1\" scope=\"runtime\" type=\"LiteralData\">KR</parameter>\\n     <defaultJobconf>\\n        <property id=\"mapred.task.timeout\">9900000000000</property>\\n      </defaultJobconf>\\n    </jobTemplate>\\n  </jobTemplates>\\n  <workflow id=\"dcs-notebook\" title=\"Notebook driven application\" abstract=\"Notebook driven application\">\\n    <workflowVersion>1.0</workflowVersion>\\n    <node id=\"notebook\">\\n      <job id=\"notebook\"/>\\n      <sources>\\n        <source id=\"source\" title=\"Input references\" abstract=\"Input references\" refid=\"string:list\" scope=\"runtime\">https://catalog.terradue.com/sentinel2/search?uid=S2A_MSIL1C_20170909T060631_N0205_R134_T42SVG_20170909T061506,https://catalog.terradue.com/sentinel2/search?uid=S2A_MSIL1C_20170902T061631_N0205_R034_T42SUG_20170902T062631</source>\\n      </sources>\\n    </node>\\n  </workflow>\\n</application>\\n'"
      ]
     },
     "execution_count": 63,
     "metadata": {},
     "output_type": "execute_result"
    }
   ],
   "source": [
    "etree.tostring(tree, pretty_print=True)"
   ]
  },
  {
   "cell_type": "markdown",
   "metadata": {},
   "source": [
    "### Set workflow information"
   ]
  },
  {
   "cell_type": "code",
   "execution_count": 83,
   "metadata": {
    "collapsed": false
   },
   "outputs": [],
   "source": [
    "root = ast.parse(str(nb['cells'][3]['source']))\n",
    "names = sorted({node.id for node in ast.walk(root) if isinstance(node, ast.Name)})"
   ]
  },
  {
   "cell_type": "code",
   "execution_count": null,
   "metadata": {
    "collapsed": false
   },
   "outputs": [],
   "source": []
  },
  {
   "cell_type": "code",
   "execution_count": 86,
   "metadata": {
    "collapsed": false
   },
   "outputs": [
    {
     "data": {
      "text/plain": [
       "'service'"
      ]
     },
     "execution_count": 86,
     "metadata": {},
     "output_type": "execute_result"
    }
   ],
   "source": [
    "names[1]"
   ]
  },
  {
   "cell_type": "code",
   "execution_count": 16,
   "metadata": {
    "collapsed": false
   },
   "outputs": [
    {
     "data": {
      "text/plain": [
       "'pa_code'"
      ]
     },
     "execution_count": 16,
     "metadata": {},
     "output_type": "execute_result"
    }
   ],
   "source": [
    "names[1]"
   ]
  },
  {
   "cell_type": "code",
   "execution_count": 23,
   "metadata": {
    "collapsed": false
   },
   "outputs": [
    {
     "data": {
      "text/plain": [
       "'pa_code'"
      ]
     },
     "execution_count": 23,
     "metadata": {},
     "output_type": "execute_result"
    }
   ],
   "source": [
    "eval('pa_code')['id']"
   ]
  },
  {
   "cell_type": "markdown",
   "metadata": {},
   "source": [
    "### loop all cells"
   ]
  },
  {
   "cell_type": "code",
   "execution_count": 14,
   "metadata": {
    "collapsed": false
   },
   "outputs": [
    {
     "name": "stdout",
     "output_type": "stream",
     "text": [
      "0\n",
      "1\n",
      "2\n",
      "pa_code = dict([('id', 'pa_code'),\n",
      "               ('value', 'DO'),\n",
      "               ('title', 'Protected Area code'),\n",
      "               ('abstract', 'Protected Area code (one of DO,...)')])\n",
      "pa_code = dict([( \"abstract\", \"Protected Area code (one of DO,...)\"),( \"id\", \"pa_code\"),( \"value\", \"KR\"),( \"title\", \"Protected Area code\")])\n",
      "3\n",
      "service = dict([('title', 'NDVI BOA '),\n",
      "                ('abstract', 'Sentinel-2 NDVI BOA'),\n",
      "                ('id', 'ndvi_boa')])\n",
      "4\n",
      "pa_name = dict([('id', 'pa_name'),\n",
      "               ('value', 'Donana'),\n",
      "               ('title', 'Protected Area name'),\n",
      "               ('abstract', 'Protected Area name (one of Donana,...)')])\n",
      "5\n",
      "update datapath\n",
      "6\n",
      "update input_identifier\n",
      "7\n",
      "update input_reference\n",
      "8\n",
      "9\n",
      "10\n",
      "11\n",
      "12\n",
      "13\n",
      "14\n",
      "15\n",
      "16\n",
      "17\n",
      "18\n",
      "19\n",
      "20\n",
      "21\n",
      "22\n",
      "23\n",
      "24\n",
      "25\n",
      "26\n",
      "27\n",
      "28\n"
     ]
    },
    {
     "ename": "NameError",
     "evalue": "name 'tree' is not defined",
     "output_type": "error",
     "traceback": [
      "\u001b[0;31m\u001b[0m",
      "\u001b[0;31mNameError\u001b[0mTraceback (most recent call last)",
      "\u001b[0;32m<ipython-input-14-d78a27bc2d67>\u001b[0m in \u001b[0;36m<module>\u001b[0;34m()\u001b[0m\n\u001b[1;32m    102\u001b[0m             \u001b[0;32mprint\u001b[0m \u001b[0mcell\u001b[0m\u001b[0;34m[\u001b[0m\u001b[0;34m'source'\u001b[0m\u001b[0;34m]\u001b[0m\u001b[0;34m\u001b[0m\u001b[0m\n\u001b[1;32m    103\u001b[0m \u001b[0;34m\u001b[0m\u001b[0m\n\u001b[0;32m--> 104\u001b[0;31m \u001b[0metree\u001b[0m\u001b[0;34m.\u001b[0m\u001b[0mtostring\u001b[0m\u001b[0;34m(\u001b[0m\u001b[0mtree\u001b[0m\u001b[0;34m,\u001b[0m \u001b[0mpretty_print\u001b[0m\u001b[0;34m=\u001b[0m\u001b[0mTrue\u001b[0m\u001b[0;34m)\u001b[0m\u001b[0;34m\u001b[0m\u001b[0m\n\u001b[0m",
      "\u001b[0;31mNameError\u001b[0m: name 'tree' is not defined"
     ]
    }
   ],
   "source": [
    "import nbformat as nbf\n",
    "import lxml.etree as etree\n",
    "import sys\n",
    "import requests\n",
    "import os\n",
    "import string\n",
    "import hashlib\n",
    "import urllib2\n",
    "import ast\n",
    "\n",
    "def ciopgetparam(name):\n",
    "    \n",
    "    return 'KR'\n",
    "\n",
    "nb_source = 'input-Copy1.ipynb'\n",
    "nb = nbf.read(nb_source, 4)\n",
    "\n",
    "data_path = '/tmp'\n",
    "input_identifier = 'some_identifier'\n",
    "input_reference = 'some_reference'\n",
    "\n",
    "action = 'runtime'\n",
    "#action = 'descriptor'\n",
    "\n",
    "if action == 'descriptor':\n",
    "    template = 'application_template.xml'\n",
    "    tree = etree.parse(template)\n",
    "    root = tree.getroot()\n",
    "\n",
    "for index, cell in enumerate(nb['cells']):\n",
    "    print index\n",
    "    \n",
    "    if str(cell['cell_type']) == 'code': \n",
    "        \n",
    "        try:\n",
    "            root_ast = ast.parse(str(cell['source']))\n",
    "            names = sorted({node.id for node in ast.walk(root_ast) if isinstance(node, ast.Name)})\n",
    "          \n",
    "            if names[0] == 'data_path' and action == 'runtime':\n",
    "                print('update datapath')\n",
    "                cell['source'] = 'data_path = %s' % data_path  \n",
    "        \n",
    "            if names[0] == 'input_identifier' and action == 'runtime':\n",
    "                print('update input_identifier')\n",
    "                cell['source'] = 'input_identifier = %s' % input_identifier  \n",
    "                \n",
    "            if names[0] == 'input_reference' and action == 'runtime':\n",
    "                print('update input_reference')   \n",
    "                cell['source'] = 'input_reference = %s' % input_reference  \n",
    "                \n",
    "            if names[0] == 'dict':\n",
    "                print(str(cell['source']))   \n",
    "                exec(str(cell['source']))\n",
    "                \n",
    "                if 'title' in eval(names[1]).keys() and 'abstract' in eval(names[1]).keys() and 'id' in eval(names[1]).keys():\n",
    "                    \n",
    "                    if 'value' in eval(names[1]).keys():\n",
    "                        # it's a parameter\n",
    "                        if action == 'descriptor':\n",
    "            \n",
    "                            xml_string = '<parameter id=\"%s\" title=\"%s\" abstract=\"%s\" maxOccurs=\"1\" scope=\"runtime\" type=\"LiteralData\">%s</parameter>' % (eval(names[1])['id'], \n",
    "                                  eval(names[1])['title'], \n",
    "                                  eval(names[1])['abstract'], \n",
    "                                  eval(names[1])['value'])\n",
    "                        \n",
    "                            el_default_params = root.xpath('/application/jobTemplates/jobTemplate/defaultParameters', \n",
    "                                 namespaces={})\n",
    "                        \n",
    "                            el_default_params[0].append(etree.fromstring(xml_string))\n",
    "                        \n",
    "                    \n",
    "                        if action == 'runtime':\n",
    "                        \n",
    "                            eval(names[1])['value'] = ciopgetparam(eval(names[1])['id'])\n",
    "    \n",
    "                            new_source = 'dict(['\n",
    "\n",
    "                            for i, keys in enumerate(eval(names[1])):\n",
    "                                if i == 0: \n",
    "                                    new_source = new_source + '( \"%s\", \"%s\")' % (keys, eval(names[1])[keys]) \n",
    "                                else:\n",
    "                                    new_source = new_source + ',( \"%s\", \"%s\")' % (keys, eval(names[1])[keys]) \n",
    "        \n",
    "                            new_source = new_source + '])'\n",
    "    \n",
    "                            cell['source'] = '%s = %s' % (names[1], new_source)\n",
    "                        \n",
    "                    else:\n",
    "                        if action == 'descriptor':\n",
    "                            # it's the service definition\n",
    "                            el_workflow = root.xpath('/application/workflow',\n",
    "                                                namespaces={}) \n",
    "         \n",
    "                            el_workflow[0].attrib['id'] = eval(names[1])['id']\n",
    "                            el_workflow[0].attrib['title'] = eval(names[1])['title']\n",
    "                            el_workflow[0].attrib['abstract'] = eval(names[1])['abstract']\n",
    "                    \n",
    "        except SyntaxError:\n",
    "            continue\n",
    "            \n",
    "        if index == 2: \n",
    "            print cell['source']\n",
    "    \n",
    "etree.tostring(tree, pretty_print=True)    "
   ]
  },
  {
   "cell_type": "code",
   "execution_count": 3,
   "metadata": {
    "collapsed": false
   },
   "outputs": [
    {
     "data": {
      "text/plain": [
       "<_ast.Module at 0x7fcd895fffd0>"
      ]
     },
     "execution_count": 3,
     "metadata": {},
     "output_type": "execute_result"
    }
   ],
   "source": [
    "root"
   ]
  },
  {
   "cell_type": "code",
   "execution_count": null,
   "metadata": {
    "collapsed": true
   },
   "outputs": [],
   "source": []
  },
  {
   "cell_type": "markdown",
   "metadata": {},
   "source": [
    "### Scratchpad"
   ]
  },
  {
   "cell_type": "code",
   "execution_count": 29,
   "metadata": {
    "collapsed": false
   },
   "outputs": [],
   "source": [
    "a = 'dict(['\n",
    "\n",
    "for i, keys in enumerate(pa_code):\n",
    "    if i == 0: \n",
    "        a = a + '( %s, \"%s\")' % (keys, pa_code[keys]) \n",
    "    else:\n",
    "        a = a + ',( %s, \"%s\")' % (keys, pa_code[keys]) \n",
    "        \n",
    "a = a + '])'"
   ]
  },
  {
   "cell_type": "code",
   "execution_count": 30,
   "metadata": {
    "collapsed": false
   },
   "outputs": [
    {
     "data": {
      "text/plain": [
       "'dict([( abstract, \"Protected Area code (one of DO,...)\"),( id, \"pa_code\"),( value, \"KR\"),( title, \"Protected Area code\")])'"
      ]
     },
     "execution_count": 30,
     "metadata": {},
     "output_type": "execute_result"
    }
   ],
   "source": [
    "a"
   ]
  },
  {
   "cell_type": "code",
   "execution_count": null,
   "metadata": {
    "collapsed": true
   },
   "outputs": [],
   "source": []
  },
  {
   "cell_type": "code",
   "execution_count": 79,
   "metadata": {
    "collapsed": false
   },
   "outputs": [
    {
     "data": {
      "text/plain": [
       "{u'cell_type': u'code',\n",
       " u'execution_count': 2,\n",
       " u'metadata': {u'collapsed': False},\n",
       " u'outputs': [],\n",
       " u'source': u\"pa_code = dict([('id', 'pa_code'),\\n               ('value', 'DO'),\\n               ('title', 'Protected Area code'),\\n               ('abstract', 'Protected Area code (one of DO,...)')])\"}"
      ]
     },
     "execution_count": 79,
     "metadata": {},
     "output_type": "execute_result"
    }
   ],
   "source": [
    "nb['cells'][2]"
   ]
  },
  {
   "cell_type": "code",
   "execution_count": null,
   "metadata": {
    "collapsed": true
   },
   "outputs": [],
   "source": []
  },
  {
   "cell_type": "code",
   "execution_count": null,
   "metadata": {
    "collapsed": true
   },
   "outputs": [],
   "source": []
  },
  {
   "cell_type": "code",
   "execution_count": null,
   "metadata": {
    "collapsed": true
   },
   "outputs": [],
   "source": []
  },
  {
   "cell_type": "code",
   "execution_count": 4,
   "metadata": {
    "collapsed": false
   },
   "outputs": [
    {
     "data": {
      "text/plain": [
       "{u'cell_type': u'code',\n",
       " u'execution_count': 2,\n",
       " u'metadata': {u'collapsed': True},\n",
       " u'outputs': [],\n",
       " u'source': u'nc = 5'}"
      ]
     },
     "execution_count": 4,
     "metadata": {},
     "output_type": "execute_result"
    }
   ],
   "source": [
    "nb['cells'][3]"
   ]
  },
  {
   "cell_type": "code",
   "execution_count": 5,
   "metadata": {
    "collapsed": false
   },
   "outputs": [
    {
     "data": {
      "text/plain": [
       "{u'cell_type': u'code',\n",
       " u'execution_count': 3,\n",
       " u'metadata': {u'collapsed': True},\n",
       " u'outputs': [],\n",
       " u'source': u'maxit = 1000'}"
      ]
     },
     "execution_count": 5,
     "metadata": {},
     "output_type": "execute_result"
    }
   ],
   "source": [
    "nb['cells'][5]"
   ]
  },
  {
   "cell_type": "code",
   "execution_count": 6,
   "metadata": {
    "collapsed": false
   },
   "outputs": [
    {
     "data": {
      "text/plain": [
       "{u'cell_type': u'code',\n",
       " u'execution_count': 5,\n",
       " u'metadata': {u'collapsed': True},\n",
       " u'outputs': [],\n",
       " u'source': u\"data_path = '/tmp/workspace/data'\"}"
      ]
     },
     "execution_count": 6,
     "metadata": {},
     "output_type": "execute_result"
    }
   ],
   "source": [
    "nb['cells'][7]"
   ]
  },
  {
   "cell_type": "code",
   "execution_count": 7,
   "metadata": {
    "collapsed": false
   },
   "outputs": [
    {
     "data": {
      "text/plain": [
       "{u'cell_type': u'code',\n",
       " u'execution_count': 6,\n",
       " u'metadata': {u'collapsed': True},\n",
       " u'outputs': [],\n",
       " u'source': u\"s2_identifier = 'S2A_MSIL1C_20170909T060631_N0205_R134_T42SVG_20170909T061506'\"}"
      ]
     },
     "execution_count": 7,
     "metadata": {},
     "output_type": "execute_result"
    }
   ],
   "source": [
    "nb['cells'][8]"
   ]
  },
  {
   "cell_type": "code",
   "execution_count": 8,
   "metadata": {
    "collapsed": false
   },
   "outputs": [
    {
     "data": {
      "text/plain": [
       "{u'cell_type': u'code',\n",
       " u'execution_count': None,\n",
       " u'metadata': {u'collapsed': True},\n",
       " u'outputs': [],\n",
       " u'source': u\"s2_reference = ''\"}"
      ]
     },
     "execution_count": 8,
     "metadata": {},
     "output_type": "execute_result"
    }
   ],
   "source": [
    "nb['cells'][9]"
   ]
  },
  {
   "cell_type": "code",
   "execution_count": null,
   "metadata": {
    "collapsed": true
   },
   "outputs": [],
   "source": []
  }
 ],
 "metadata": {
  "kernelspec": {
   "display_name": "Python 2",
   "language": "python",
   "name": "python2"
  },
  "language_info": {
   "codemirror_mode": {
    "name": "ipython",
    "version": 2
   },
   "file_extension": ".py",
   "mimetype": "text/x-python",
   "name": "python",
   "nbconvert_exporter": "python",
   "pygments_lexer": "ipython2",
   "version": "2.7.12"
  }
 },
 "nbformat": 4,
 "nbformat_minor": 2
}
