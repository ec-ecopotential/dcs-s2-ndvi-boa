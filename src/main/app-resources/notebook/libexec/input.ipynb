{
 "cells": [
  {
   "cell_type": "markdown",
   "metadata": {},
   "source": [
    "## NDVI Bottom of Atmosphere"
   ]
  },
  {
   "cell_type": "markdown",
   "metadata": {},
   "source": [
    "This notebook takes a Sentinel-2 Level 2 product and generates the NDVI according to a set of flags.\n"
   ]
  },
  {
   "cell_type": "code",
   "execution_count": 1,
   "metadata": {
    "collapsed": false
   },
   "outputs": [],
   "source": [
    "pa_code = dict([('id', 'pa_code'),\n",
    "               ('value', 'DO'),\n",
    "               ('title', 'Protected Area code'),\n",
    "               ('abstract', 'Protected Area code (one of DO,...)')])"
   ]
  },
  {
   "cell_type": "code",
   "execution_count": 2,
   "metadata": {
    "collapsed": true
   },
   "outputs": [],
   "source": [
    "service = dict([('title', 'NDVI BOA - updated 3'),\n",
    "                ('abstract', 'Sentinel-2 NDVI BOA'),\n",
    "                ('id', 'ndvi_boa')])"
   ]
  },
  {
   "cell_type": "code",
   "execution_count": 3,
   "metadata": {
    "collapsed": true
   },
   "outputs": [],
   "source": [
    "pa_name = dict([('id', 'pa_name'),\n",
    "               ('value', 'Donana'),\n",
    "               ('title', 'Protected Area name'),\n",
    "               ('abstract', 'Protected Area name (one of Donana,...)')])"
   ]
  },
  {
   "cell_type": "code",
   "execution_count": 4,
   "metadata": {
    "collapsed": true
   },
   "outputs": [],
   "source": [
    "resolution = dict([('id', 'resolution'),\n",
    "               ('value', '60'),\n",
    "               ('title', 'Spatial resolution'),\n",
    "               ('abstract', 'Spatial resolution in meters (10 or 20 or 60)')])"
   ]
  },
  {
   "cell_type": "code",
   "execution_count": 5,
   "metadata": {
    "collapsed": true
   },
   "outputs": [],
   "source": [
    "plot_quicklooks = dict([('id', 'plot'),\n",
    "               ('value', 'False'),\n",
    "               ('title', 'Boolean to add quicklooks to notebook'),\n",
    "               ('abstract', 'Boolean to add quicklooks to notebook')])"
   ]
  },
  {
   "cell_type": "code",
   "execution_count": 6,
   "metadata": {
    "collapsed": true
   },
   "outputs": [],
   "source": [
    "data_path = '/workspace/data'"
   ]
  },
  {
   "cell_type": "code",
   "execution_count": 7,
   "metadata": {
    "collapsed": true
   },
   "outputs": [],
   "source": [
    "input_identifier = 'S2A_MSIL2A_20170909T110651_N0205_R137_T29SPB_20170909T111217'"
   ]
  },
  {
   "cell_type": "code",
   "execution_count": 8,
   "metadata": {
    "collapsed": true
   },
   "outputs": [],
   "source": [
    "input_reference = \"https://catalog.terradue.com/sentinel2/search?uid=S2A_MSIL2A_20170909T110651_N0205_R137_T29SPB_20170909T111217\""
   ]
  },
  {
   "cell_type": "code",
   "execution_count": 9,
   "metadata": {
    "collapsed": true
   },
   "outputs": [],
   "source": [
    "import os\n",
    "import sys\n",
    "import numpy as np\n",
    "import matplotlib\n",
    "import matplotlib.pyplot as plt\n",
    "import snappy\n",
    "import dateutil.parser as parser\n",
    "import gc\n",
    "from datetime import datetime\n",
    "import matplotlib\n",
    "import matplotlib.colors as colors\n",
    "from PIL import Image\n",
    "\n",
    "from os.path import basename\n",
    "import gdal\n",
    "import osr\n",
    "\n",
    "sys.path.append('/application/notebook/libexec/') \n",
    "sys.path.append(os.getcwd())\n",
    "import ISOMetadata\n",
    "\n",
    "%matplotlib inline"
   ]
  },
  {
   "cell_type": "code",
   "execution_count": 10,
   "metadata": {
    "collapsed": true
   },
   "outputs": [],
   "source": [
    "def plotBand(product, band, vmin, vmax):\n",
    "     \n",
    "    band = product.getBand(band)\n",
    "\n",
    "    w = band.getRasterWidth()\n",
    "    h = band.getRasterHeight()\n",
    "\n",
    "    band_data = np.zeros(w * h, np.float32)\n",
    "    band.readPixels(0, 0, w, h, band_data)\n",
    "\n",
    "    band_data.shape = h, w\n",
    "\n",
    "    imgplot = plt.imshow(band_data, cmap=plt.cm.binary_r, vmin=vmin, vmax=vmax)\n",
    "\n",
    "    \n",
    "    return imgplot "
   ]
  },
  {
   "cell_type": "code",
   "execution_count": 11,
   "metadata": {
    "collapsed": false
   },
   "outputs": [],
   "source": [
    "s2prd = \"%s/%s/%s.SAFE/MTD_MSIL2A.xml\" % (data_path, input_identifier, input_identifier)\n",
    "product = snappy.ProductIO.readProduct(s2prd)\n",
    "\n",
    "width = product.getSceneRasterWidth()\n",
    "height = product.getSceneRasterHeight()\n",
    "name = product.getName()\n",
    "description = product.getDescription()\n",
    "band_names = product.getBandNames()\n"
   ]
  },
  {
   "cell_type": "code",
   "execution_count": 12,
   "metadata": {
    "collapsed": true
   },
   "outputs": [],
   "source": [
    "product_date = parser.parse(product.getStartTime().toString()).date()"
   ]
  },
  {
   "cell_type": "code",
   "execution_count": 13,
   "metadata": {
    "collapsed": true
   },
   "outputs": [],
   "source": [
    "output_date = '%s%02d%02d' % (product_date.year, product_date.month, product_date.day)"
   ]
  },
  {
   "cell_type": "markdown",
   "metadata": {},
   "source": [
    "### Plot RGB"
   ]
  },
  {
   "cell_type": "code",
   "execution_count": 14,
   "metadata": {
    "collapsed": false
   },
   "outputs": [],
   "source": [
    "if plot_quicklooks['value'] == 'True':\n",
    "    \n",
    "    b4 = product.getBand('B4')\n",
    "    b3 = product.getBand('B3')\n",
    "    b2 = product.getBand('B2')\n",
    "\n",
    "    w = b4.getRasterWidth()\n",
    "    h = b4.getRasterHeight()\n",
    "\n",
    "    b4_data = np.zeros(w * h, np.float32)\n",
    "    b4.readPixels(0, 0, w, h, b4_data)\n",
    "    b4_data.shape = h, w\n",
    "\n",
    "    b3_data = np.zeros(w * h, np.float32)\n",
    "    b3.readPixels(0, 0, w, h, b3_data)\n",
    "    b3_data.shape = h, w\n",
    "\n",
    "    b2_data = np.zeros(w * h, np.float32)\n",
    "    b2.readPixels(0, 0, w, h, b2_data)\n",
    "    b2_data.shape = h, w\n",
    "\n",
    "    red = (b4_data*256/(np.amax(b4_data)-np.amin(b4_data)))\n",
    "    green = (b3_data*256/(np.amax(b3_data)-np.amin(b3_data)))\n",
    "    blue = (b2_data*256/(np.amax(b2_data)-np.amin(b2_data)))\n",
    "\n",
    "\n",
    "    rgb_uint8 = np.dstack((red, green, blue)).astype(np.uint8) \n",
    "\n",
    "    width = 12\n",
    "    height = 12\n",
    "    plt.figure(figsize=(width, height))\n",
    "    img = Image.fromarray(rgb_uint8)\n",
    "    imgplot = plt.imshow(img)"
   ]
  },
  {
   "cell_type": "code",
   "execution_count": 15,
   "metadata": {
    "collapsed": true
   },
   "outputs": [],
   "source": [
    "if resolution['value'] == '10':\n",
    "    reference_band = 'B4'\n",
    "\n",
    "if resolution['value'] == '20':\n",
    "    reference_band = 'B5'\n",
    "    \n",
    "if resolution['value'] == '60':\n",
    "    reference_band = 'B1'   "
   ]
  },
  {
   "cell_type": "code",
   "execution_count": 16,
   "metadata": {
    "collapsed": false
   },
   "outputs": [],
   "source": [
    "snappy.GPF.getDefaultInstance().getOperatorSpiRegistry().loadOperatorSpis()\n",
    "\n",
    "HashMap = snappy.jpy.get_type('java.util.HashMap')\n",
    "\n",
    "WKTReader = snappy.jpy.get_type('com.vividsolutions.jts.io.WKTReader')\n",
    "\n",
    "#subsets = []\n",
    "#geotiffs = []\n",
    "#ressamples = []\n",
    "#for band in ['quality_cloud_confidence',\n",
    "#             'quality_snow_confidence', \n",
    "#             'quality_scene_classification']:\n",
    "    \n",
    "parameters = HashMap()\n",
    "parameters.put('referenceBand', reference_band)\n",
    "    \n",
    "product = snappy.GPF.createProduct('Resample', parameters, product)\n",
    "    "
   ]
  },
  {
   "cell_type": "code",
   "execution_count": 17,
   "metadata": {
    "collapsed": true
   },
   "outputs": [],
   "source": [
    "flag_expr = dict([('id', 'flag_expr'),\n",
    "               ('value', 'saturated_l1a_B4'),\n",
    "               ('title', 'Flag expression for pixel exclusion'),\n",
    "               ('abstract', 'Flag expression for pixel exclusion (e.g. saturated_l1a_B4 will exclude pixels having the flag saturated_l1a_B4 set)')])"
   ]
  },
  {
   "cell_type": "code",
   "execution_count": 18,
   "metadata": {
    "collapsed": false
   },
   "outputs": [],
   "source": [
    "if not flag_expr['value']:\n",
    "    ndvi_expr = '(B8 + B4) != 0 and (B8 - B4)/(B8 + B4) >= 0 and (B8 - B4)/(B8 + B4) <= 1? ((B8 - B4)/(B8 + B4)) * 10000 : 20000'\n",
    "else:\n",
    "    ndvi_expr = '! %s and (B8 + B4) != 0 and (B8 - B4)/(B8 + B4) >= 0 and (B8 - B4)/(B8 + B4) <= 1? ((B8 - B4)/(B8 + B4)) * 10000 : 20000' % flag_expr['value']\n",
    "    \n"
   ]
  },
  {
   "cell_type": "code",
   "execution_count": 19,
   "metadata": {
    "collapsed": false
   },
   "outputs": [],
   "source": [
    "HashMap = snappy.jpy.get_type('java.util.HashMap')\n",
    "\n",
    "BandDescriptor = snappy.jpy.get_type('org.esa.snap.core.gpf.common.BandMathsOp$BandDescriptor')\n",
    "\n",
    "targetBand0 = BandDescriptor()\n",
    "targetBand0.name = 'ndvi'\n",
    "targetBand0.type = 'uint16'\n",
    "targetBand0.expression = ndvi_expr\n",
    "\n",
    "targetBand1 = BandDescriptor()\n",
    "targetBand1.name = 'quality_cloud_confidence'\n",
    "targetBand1.type = 'uint16'\n",
    "targetBand1.expression = 'quality_cloud_confidence'\n",
    "\n",
    "targetBand2 = BandDescriptor()\n",
    "targetBand2.name = 'quality_snow_confidence'\n",
    "targetBand2.type = 'uint16'\n",
    "targetBand2.expression = 'quality_snow_confidence'\n",
    "\n",
    "targetBand3 = BandDescriptor()\n",
    "targetBand3.name = 'quality_scene_classification'\n",
    "targetBand3.type = 'uint16'\n",
    "targetBand3.expression = 'quality_scene_classification'\n",
    "\n",
    "targetBands = snappy.jpy.array('org.esa.snap.core.gpf.common.BandMathsOp$BandDescriptor', 4)\n",
    "targetBands[0] = targetBand0\n",
    "targetBands[1] = targetBand1\n",
    "targetBands[2] = targetBand2\n",
    "targetBands[3] = targetBand3\n",
    " \n",
    "parameters = HashMap()\n",
    "parameters.put('targetBands', targetBands)\n",
    "\n",
    "ndvi = snappy.GPF.createProduct('BandMaths', parameters, product)"
   ]
  },
  {
   "cell_type": "code",
   "execution_count": 20,
   "metadata": {
    "collapsed": false
   },
   "outputs": [
    {
     "data": {
      "text/plain": [
       "56"
      ]
     },
     "execution_count": 20,
     "metadata": {},
     "output_type": "execute_result"
    }
   ],
   "source": [
    "product = None\n",
    "gc.collect()"
   ]
  },
  {
   "cell_type": "code",
   "execution_count": 21,
   "metadata": {
    "collapsed": false
   },
   "outputs": [],
   "source": [
    "if plot_quicklooks['value'] == 'True':\n",
    "    \n",
    "    fig = plt.figure(figsize=(20,20))\n",
    "\n",
    "    for index, band in enumerate(ndvi.getBandNames()):\n",
    "        \n",
    "        a=fig.add_subplot(4,4,index+1)\n",
    "        if index == 0:\n",
    "            imgplot = plotBand(ndvi, band, 0, 10000)\n",
    "        elif index == 3:\n",
    "            imgplot = plotBand(ndvi, band, 0, 10)\n",
    "        else:\n",
    "            imgplot = plotBand(ndvi, band, 0, 100)\n",
    "        a.set_title(band)\n",
    "    \n",
    "    plt.tight_layout()\n",
    "    fig = plt.gcf()\n",
    "    plt.show()\n",
    "\n",
    "    fig.clf()\n",
    "    plt.close()\n",
    "    gc.collect()"
   ]
  },
  {
   "cell_type": "code",
   "execution_count": 22,
   "metadata": {
    "collapsed": true
   },
   "outputs": [],
   "source": [
    "output_name = '%s_%s_NDVI_BOA' % (name, pa_code['value'])"
   ]
  },
  {
   "cell_type": "code",
   "execution_count": 23,
   "metadata": {
    "collapsed": false
   },
   "outputs": [],
   "source": [
    "snappy.ProductIO.writeProduct(ndvi, output_name + '.tif', 'GeoTIFF')"
   ]
  },
  {
   "cell_type": "code",
   "execution_count": 24,
   "metadata": {
    "collapsed": true
   },
   "outputs": [],
   "source": [
    "properties = open(output_name + '.tif.properties', 'w')"
   ]
  },
  {
   "cell_type": "code",
   "execution_count": 25,
   "metadata": {
    "collapsed": true
   },
   "outputs": [],
   "source": [
    "properties.write('identifier=' + output_name + '_' + datetime.now().strftime(\"%s\"))\n",
    "properties.write('\\n')\n",
    "properties.write('date=%s/%s' % (parser.parse(ndvi.getStartTime().toString()).isoformat(), \n",
    "                                 parser.parse(ndvi.getEndTime().toString()).isoformat()))\n",
    "properties.write('\\n')\n",
    "properties.write('category=thematic,http://www.terradue.com/api/data-pipeline/thematic,Thematic resource')"
   ]
  },
  {
   "cell_type": "code",
   "execution_count": 26,
   "metadata": {
    "collapsed": true
   },
   "outputs": [],
   "source": [
    "properties.close()"
   ]
  },
  {
   "cell_type": "markdown",
   "metadata": {},
   "source": [
    "### ISO Metadata"
   ]
  },
  {
   "cell_type": "code",
   "execution_count": 27,
   "metadata": {
    "collapsed": false
   },
   "outputs": [],
   "source": [
    "iso_metadata = ISOMetadata.ISOMetadata()"
   ]
  },
  {
   "cell_type": "code",
   "execution_count": 28,
   "metadata": {
    "collapsed": false
   },
   "outputs": [],
   "source": [
    "iso_metadata.set_contact('info@terradue.com')\n",
    "iso_metadata.set_date(output_date)\n",
    "iso_metadata.set_data_format('GEOTIFF')\n",
    "iso_metadata.set_data_type('UInt16')\n",
    "iso_metadata.set_pa(pa_name['value'])\n",
    "iso_metadata.set_data_quality('Nominal')\n",
    "iso_metadata.set_responsible_party('CNR')"
   ]
  },
  {
   "cell_type": "code",
   "execution_count": 29,
   "metadata": {
    "collapsed": false
   },
   "outputs": [],
   "source": [
    "iso_metadata.write(output_name + '.xml')"
   ]
  },
  {
   "cell_type": "code",
   "execution_count": null,
   "metadata": {
    "collapsed": true
   },
   "outputs": [],
   "source": []
  }
 ],
 "metadata": {
  "kernelspec": {
   "display_name": "Python 2",
   "language": "python",
   "name": "python2"
  },
  "language_info": {
   "codemirror_mode": {
    "name": "ipython",
    "version": 2
   },
   "file_extension": ".py",
   "mimetype": "text/x-python",
   "name": "python",
   "nbconvert_exporter": "python",
   "pygments_lexer": "ipython2",
   "version": "2.7.12"
  }
 },
 "nbformat": 4,
 "nbformat_minor": 2
}
